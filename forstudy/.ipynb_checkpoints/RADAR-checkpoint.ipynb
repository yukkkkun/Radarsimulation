{
 "cells": [
  {
   "cell_type": "markdown",
   "metadata": {},
   "source": [
    "# Radar FMCW and CSM algorithms\n",
    "\n",
    "This notebook shows a naive (didactically intuitive) implementation of following algorithms:\n",
    "\n",
    "- FMCW (Frequency Modulated Continuous Wave)\n",
    "- CSM (Chirp Sequence Modulation)\n",
    "\n",
    "Both algorithms are used for range and velocity measurements in automated/assisted driving domain."
   ]
  },
  {
   "cell_type": "markdown",
   "metadata": {},
   "source": [
    "## Introduction\n",
    "\n",
    "### Doppler\n",
    "\n",
    "An electromagnetic wave \n",
    "\n",
    "\\begin{align}\n",
    "w(t) &= a_t cos(2\\pi f_0t)\n",
    "\\end{align}\n",
    "\n",
    "reflected on a moving object with velocity $v$ leads to a new wave:\n",
    "\n",
    "\\begin{align}\n",
    "u_r(t) &= a_r \\text{cos}(2\\pi (f_0 - f_{d}) t + \\phi_r + \\phi_t) \\\\\n",
    "\\end{align}"
   ]
  },
  {
   "cell_type": "markdown",
   "metadata": {},
   "source": [
    "In order to understand what signal the algorithms operate on we have to take a closer look at the inner workings of a continuous wave radar (simplified view):\n",
    "\n",
    "![cw-radar](cw-radar.png)\n",
    "\n",
    "[Source](https://en.wikipedia.org/wiki/Continuous-wave_radar#/media/File:Bsp2_CW-Radar.EN.png)"
   ]
  },
  {
   "cell_type": "markdown",
   "metadata": {},
   "source": [
    "### Antennas\n",
    "\n",
    "The CW-RADAR has one transmitting antenna and at least one receiving antenna. The former emits a continuous radio wave, that's different to pulse-based RADAR systems. The receiving antenna transforms the reflected waves from the object of interests and converts the signal into eletrical domain (voltage).\n",
    "\n",
    "Automotive long range radars use a $77.7\\text{GHz}$ base frequency.\n",
    "\n",
    "### RF-Generator\n",
    "\n",
    "The RF-generator is a module which dynamically generates a sine voltage with a particular frequency. Since both methods presented here modulate (alter) the frequency of the tramitted radio wave, the generator is an essential part in the system.\n",
    "\n",
    "### Mixer\n",
    "\n",
    "The mixer is the most important component in the system described here. It allows us to measure the frequency change introduced by the moving object we are going to detect. We apply to the antenna the voltage $u_t(t)$ and receive the voltage $u_r(t)$.\n",
    "\n",
    "\\begin{align}\n",
    "u_t(t) &= A_t \\text{cos}(2\\pi f_0 t+\\phi_t) \\\\\n",
    "u_r(t) &= A_r \\text{cos}(2\\pi (f_0 - f_{d}) t + \\phi_r)\n",
    "\\end{align}\n",
    "\n",
    "With Doppler frequency\n",
    "\n",
    "\\begin{align}\n",
    "f_{d} = \\frac{2v}{\\lambda} = \\frac{2 \\dot r}{\\lambda} = \\frac{2 f_0 \\dot r}{c}\n",
    "\\end{align}\n",
    "\n",
    "Given base wavelength $\\lambda$ and target velocity $v=\\dot r$.\n",
    "\n",
    "Theoretically, if we could sample $f_0 - f_{d} \\approx 77.7GHz$ and we were done. But high frequency AD converters (according to Nyquist $\\geq 2f_0 \\approx 145GHz$ is required) are techinically expensive and the change introduced by $f_d$ is very small to detect changes. That's why we need the mixer to get rid of the high frequency $f_0$ and work only on the $f_d$. \n",
    "\n",
    "The mixer multiplies both signals, corresponding to trigonometry relations:\n",
    "\n",
    "\\begin{align}\n",
    "\\text{cos}(x)\\text{cos}(y) = \\frac{1}{2} [ \\text{cos}(x-y) + \\text{cos}(x+y)]\n",
    "\\end{align}\n",
    "\n",
    "Applied to $u_t(t)$ and $u_r(t)$:\n",
    "\n",
    "\\begin{align}\n",
    "u_t(t)u_r(t) &= \\frac{A_t A_r}{2} [ \\text{cos}(2\\pi f_0 t+\\phi_t-2\\pi (f_0 - f_{d}) t - \\phi_r) + \\text{cos}(2\\pi f_0 t+\\phi_t+ 2\\pi (f_0 - f_{d}) t + \\phi_r)] \\\\\n",
    "&= \\frac{A_t A_r}{2} [ \\text{cos}(2\\pi f_{d} t + \\phi_t - \\phi_r) + \\text{cos}(2\\pi f_0 t+\\phi_t + 2\\pi (f_0- f_{d}) t + \\phi_r)] \\\\\n",
    "&= \\frac{A_t A_r}{2} [ \\text{cos}(2\\pi f_{d} t + \\phi_t - \\phi_r) + \\text{cos}(2\\pi \\underbrace{2 f_0}_{\\text{2x 77GHz}} t - 2\\pi f_{d}t + \\phi_t + \\phi_r)] \\\\\n",
    "\\end{align}\n",
    "\n",
    "The product of both signals equals to a sum of two waves, the first, only dependent on the doppler frequency (which is velocity dependent) and the second a very high frequency signal (144 GHz) which we filter out with the low pass filter:\n",
    "\n",
    "\\begin{align}\n",
    "u_{It,r}(t) = \\frac{A_t A_r}{2} \\text{cos}(2\\pi f_{d} t + \\phi_t - \\phi_r)\n",
    "\\end{align}\n",
    "\n",
    "After the AD converter we could sample $u_{It,r}(t)$ and measure the (unsigned) velocity. The index $I$ means in-phase. We later will introduce an other index in order to extract the sign of the velocity (approaching vs. departing)."
   ]
  },
  {
   "cell_type": "code",
   "execution_count": 11,
   "metadata": {},
   "outputs": [],
   "source": [
    "import numpy as np\n",
    "import matplotlib.pyplot as plt\n",
    "import pandas as pd\n",
    "from scipy.fftpack import fft"
   ]
  },
  {
   "cell_type": "markdown",
   "metadata": {},
   "source": [
    "Constant for velocity of light within the air:"
   ]
  },
  {
   "cell_type": "code",
   "execution_count": 12,
   "metadata": {},
   "outputs": [],
   "source": [
    "c = 299792458"
   ]
  },
  {
   "cell_type": "markdown",
   "metadata": {},
   "source": [
    "## FCMW\n",
    "\n",
    "Instead of sending with one frequency, we will alter $f_0$ over time:\n",
    "\n",
    "\\begin{align}\n",
    "u_t(t) &= A_t \\text{cos}(2\\pi f_t t+\\phi_t)\n",
    "\\end{align}\n",
    "\n",
    "with \n",
    "\n",
    "\\begin{align}\n",
    "f_t = f_t(t) = f_0 + m_w(t-t_0)\n",
    "\\end{align}"
   ]
  },
  {
   "cell_type": "code",
   "execution_count": 13,
   "metadata": {},
   "outputs": [],
   "source": [
    "f_0 = 77.7*1e9 # 77.7GHz\n",
    "\n",
    "phi_t = 0\n",
    "A_t = 1\n",
    "f_ramp = 425*1e6 #Hz\n",
    "T_ramp = 0.010\n",
    "m_w = f_ramp/T_ramp"
   ]
  },
  {
   "cell_type": "code",
   "execution_count": 14,
   "metadata": {},
   "outputs": [],
   "source": [
    "def f_t(t):\n",
    "    return f_0 + m_w*(t % T_ramp)"
   ]
  },
  {
   "cell_type": "code",
   "execution_count": 15,
   "metadata": {},
   "outputs": [],
   "source": [
    "def u_t(t):\n",
    "    f_b = f_t(t)\n",
    "    return A_t*np.cos(2*np.pi*f_b*t + phi_t)"
   ]
  },
  {
   "cell_type": "markdown",
   "metadata": {},
   "source": [
    "The received signal depends on both the range $r$ and the velocity $v$:\n",
    "\n",
    "\\begin{align}\n",
    "u_r(t) &= A_r \\text{cos}(2\\pi f_r t+\\phi_r)\n",
    "\\end{align}\n",
    "\n",
    "with \n",
    "\n",
    "\\begin{align}\n",
    "f_r = f_r(t) = f_0 + m_w(t- \\frac{2r}{c}-t_0) - \\frac{2vf_0}{c}\n",
    "\\end{align}"
   ]
  },
  {
   "cell_type": "code",
   "execution_count": 16,
   "metadata": {},
   "outputs": [],
   "source": [
    "v = 50/3.6 # 50km/h\n",
    "r = 100 # 100m distance"
   ]
  },
  {
   "cell_type": "code",
   "execution_count": 17,
   "metadata": {},
   "outputs": [],
   "source": [
    "def f_r(t):\n",
    "    return f_0 + m_w*(t % T_ramp - 2*r/c) - 2*v*f_0/c"
   ]
  },
  {
   "cell_type": "code",
   "execution_count": 18,
   "metadata": {},
   "outputs": [],
   "source": [
    "t = np.arange(0, 2*T_ramp, 1e-8)"
   ]
  },
  {
   "cell_type": "code",
   "execution_count": 19,
   "metadata": {},
   "outputs": [
    {
     "data": {
      "image/png": "[encoded data removed]",
      "text/plain": [
       "<Figure size 1080x360 with 1 Axes>"
      ]
     },
     "metadata": {
      "needs_background": "light"
     },
     "output_type": "display_data"
    }
   ],
   "source": [
    "plt.figure(figsize=(15,5))\n",
    "plt.plot(t, f_t(t), label=\"$f_t$\")\n",
    "plt.plot(t, f_r(t), label=\"$f_r$\")\n",
    "plt.legend()\n",
    "plt.xlabel(\"t [s]\")\n",
    "plt.ylabel(\"frequency [Hz]\")\n",
    "plt.title(\"Transmitted and received frequencies\")\n",
    "plt.grid();"
   ]
  },
  {
   "cell_type": "markdown",
   "metadata": {},
   "source": [
    "Because we don't see any difference let's zoom in "
   ]
  },
  {
   "cell_type": "code",
   "execution_count": 20,
   "metadata": {},
   "outputs": [
    {
     "data": {
      "image/png": "[encoded data removed]",
      "text/plain": [
       "<Figure size 720x720 with 1 Axes>"
      ]
     },
     "metadata": {
      "needs_background": "light"
     },
     "output_type": "display_data"
    }
   ],
   "source": [
    "t_op = T_ramp\n",
    "plt.figure(figsize=(10,10))\n",
    "plt.plot(t, f_t(t), label=\"$f_t$\")\n",
    "plt.plot(t, f_r(t), label=\"$f_r$\")\n",
    "plt.legend()\n",
    "plt.xlim([t_op-T_ramp/10000, t_op+T_ramp/10000])\n",
    "plt.ylim([f_0-100e3, f_0+100e3])\n",
    "plt.xlabel(\"t [s]\")\n",
    "plt.ylabel(\"frequency [Hz]\")\n",
    "plt.title(\"Transmitted and received frequencies\")\n",
    "plt.grid();"
   ]
  },
  {
   "cell_type": "markdown",
   "metadata": {},
   "source": [
    "If we could measure $\\Delta f$ directly we could derive $r$ and $v$:\n",
    "\n",
    "\\begin{align}\n",
    "\\Delta f = f_t-f_r = \\frac{2m_w}{c}r + \\frac{2 f_0}{c}\\dot r\n",
    "\\end{align}\n",
    "\n",
    "There is just one problem. We have one equation but two unknowns. The solution for that problem is to have a second ramp with a different $m_w$:\n",
    "\n",
    "\\begin{align}\n",
    "f_t(t) = \\{\\begin{array}{lr}\n",
    "        f_0 + m_{w,1}(t-t_0), & \\text{for } 0 \\leq t < T_{r,1}\\\\\n",
    "        f_0 + m_w T_{r,1} + m_{w,2}(t-t_0), & \\text{for } T_{r,1} \\leq t < T_{r,1}+T_{r,2}\\\n",
    "        \\end{array}\n",
    "\\end{align}"
   ]
  },
  {
   "cell_type": "markdown",
   "metadata": {},
   "source": [
    "Define and implement both waveforms:"
   ]
  },
  {
   "cell_type": "code",
   "execution_count": 21,
   "metadata": {},
   "outputs": [],
   "source": [
    "T_ramp1 = T_ramp*0.7\n",
    "T_ramp2 = T_ramp*0.3\n",
    "m_w1 = f_ramp/T_ramp1\n",
    "m_w2 = -f_ramp/T_ramp2"
   ]
  },
  {
   "cell_type": "code",
   "execution_count": 22,
   "metadata": {},
   "outputs": [],
   "source": [
    "def f_t(t):\n",
    "    r1 = f_0 + m_w1*(t % (T_ramp1+T_ramp2))\n",
    "    r1[(t%(T_ramp1+T_ramp2)) > T_ramp1] = 0\n",
    "    \n",
    "    r2 = f_0 + m_w1*T_ramp1 + m_w2*( (t-T_ramp1) % (T_ramp1+T_ramp2))\n",
    "    r2[(t%(T_ramp1+T_ramp2)) <= T_ramp1] = 0\n",
    "    \n",
    "    return r1+r2"
   ]
  },
  {
   "cell_type": "code",
   "execution_count": 23,
   "metadata": {},
   "outputs": [],
   "source": [
    "def f_r(t):\n",
    "    r1 = f_0 + m_w1*(t % (T_ramp1+T_ramp2) - 2*r/c) - 2*v*f_0/c\n",
    "    r1[(t%(T_ramp1+T_ramp2)) > T_ramp1] = 0\n",
    "    \n",
    "    r2 = f_0 + m_w1*T_ramp1 + m_w2*( (t-T_ramp1) % (T_ramp1+T_ramp2) - 2*r/c) - 2*v*f_0/c\n",
    "    r2[(t%(T_ramp1+T_ramp2)) <= T_ramp1] = 0\n",
    "    return r1+r2"
   ]
  },
  {
   "cell_type": "code",
   "execution_count": 24,
   "metadata": {},
   "outputs": [
    {
     "data": {
      "image/png": "[encoded data removed]",
      "text/plain": [
       "<Figure size 1080x360 with 1 Axes>"
      ]
     },
     "metadata": {
      "needs_background": "light"
     },
     "output_type": "display_data"
    }
   ],
   "source": [
    "t = np.arange(0, 2*T_ramp, 1e-7)\n",
    "plt.figure(figsize=(15,5))\n",
    "plt.plot(t, f_t(t), label=\"$f_t$\")\n",
    "plt.plot(t, f_r(t), label=\"$f_r$\")\n",
    "plt.legend()\n",
    "plt.xlabel(\"t [s]\")\n",
    "plt.ylabel(\"frequency [Hz]\")\n",
    "plt.title(\"FMCW ramps with different $m_{w,1} \\\\neq m_{w,2}$\")\n",
    "plt.grid();"
   ]
  },
  {
   "cell_type": "markdown",
   "metadata": {},
   "source": [
    "Zoom in again:"
   ]
  },
  {
   "cell_type": "code",
   "execution_count": 25,
   "metadata": {},
   "outputs": [
    {
     "data": {
      "image/png": "[encoded data removed]",
      "text/plain": [
       "<Figure size 720x360 with 1 Axes>"
      ]
     },
     "metadata": {
      "needs_background": "light"
     },
     "output_type": "display_data"
    }
   ],
   "source": [
    "t_op = T_ramp\n",
    "plt.figure(figsize=(10,5))\n",
    "plt.plot(t, f_t(t), label=\"$f_t$\")\n",
    "plt.plot(t, f_r(t), label=\"$f_r$\")\n",
    "plt.legend()\n",
    "plt.xlim([t_op-T_ramp/5000, t_op+T_ramp/5000])\n",
    "plt.ylim([f_0-100e3, f_0+600e3])\n",
    "plt.xlabel(\"t [s]\")\n",
    "plt.ylabel(\"frequency [Hz]\")\n",
    "plt.title(\"FMCW ramps with different $m_{w,1} \\\\neq m_{w,2}$\")\n",
    "plt.grid();"
   ]
  },
  {
   "cell_type": "markdown",
   "metadata": {},
   "source": [
    "Now we have two equations:\n",
    "\n",
    "\\begin{align}\n",
    "\\Delta f_1 = \\frac{2m_{w,1}}{c}r + \\frac{2 f_0}{c}\\dot r \\\\\n",
    "\\Delta f_2 = \\frac{2m_{w,2}}{c}r + \\frac{2 f_0}{c}\\dot r\n",
    "\\end{align}\n",
    "\n",
    "Solving the equation system:"
   ]
  },
  {
   "cell_type": "code",
   "execution_count": 26,
   "metadata": {},
   "outputs": [],
   "source": [
    "t_f1 = np.asarray([T_ramp*0.1]) # beginning of rising ramp\n",
    "t_f2 = np.asarray([T_ramp*0.8])  # beginning of falling ramp\n",
    "delta_f_1 = f_t(t_f1) - f_r(t_f1)\n",
    "delta_f_2 = f_t(t_f2) - f_r(t_f2)"
   ]
  },
  {
   "cell_type": "code",
   "execution_count": 27,
   "metadata": {},
   "outputs": [],
   "source": [
    "A = np.asarray([[2*m_w1/c, 2*f_0/c], [2*m_w2/c, 2*f_0/c]])\n",
    "Y = np.asarray([delta_f_1, delta_f_2])"
   ]
  },
  {
   "cell_type": "code",
   "execution_count": 28,
   "metadata": {},
   "outputs": [
    {
     "name": "stdout",
     "output_type": "stream",
     "text": [
      "range r: 99.99999999693145\n",
      "velocity v: 49.99999988508472\n"
     ]
    }
   ],
   "source": [
    "x = np.linalg.solve(A, Y).flatten()\n",
    "print(\"range r:\", x[0])\n",
    "print(\"velocity v:\", x[1]*3.6)"
   ]
  },
  {
   "cell_type": "markdown",
   "metadata": {},
   "source": [
    "As you could see we could successfully estimate the range and velocity."
   ]
  },
  {
   "cell_type": "markdown",
   "metadata": {},
   "source": [
    "**Note**: we get $\\Delta f_i$ for free as a result of the FFT on the mixed and filtered signal \n",
    "\n",
    "\n",
    "\\begin{align}\n",
    "u_{It,r}(t) = \\frac{A_t A_r}{2} \\text{cos}(2\\pi (f_t - f_r) t + \\phi_t - \\phi_r) = \\frac{A_t A_r}{2} \\text{cos}(2\\pi \\Delta f t + \\phi_t - \\phi_r)\n",
    "\\end{align}"
   ]
  },
  {
   "cell_type": "markdown",
   "metadata": {},
   "source": [
    "In the FMCW chapter we did not address various problems like:\n",
    "\n",
    "- multi target estimation (what happens if the FFT returns 2, 3, 4, ... major peaks?)\n",
    "- angle estimation\n",
    "\n",
    "We will solve the first problem in our second method."
   ]
  },
  {
   "cell_type": "markdown",
   "metadata": {},
   "source": [
    "## Chirp Sequence Modulation\n",
    "\n",
    "This method is an extension of FMCW. Instead of sending one singe rising and falling frequency chirp we will repeat that process $n_r$ times in a sequence with chirp frequency $f_{chirp}$:"
   ]
  },
  {
   "cell_type": "code",
   "execution_count": 29,
   "metadata": {},
   "outputs": [],
   "source": [
    "# chirp sequence frequency\n",
    "f_chirp = 50*1e3 #Hz\n",
    "\n",
    "# ramp frequency\n",
    "f_r = 200*1e6 #Hz\n",
    "T_r = 1/f_chirp # duration of one cycle\n",
    "m_w = f_r/T_r\n",
    "\n",
    "n_r = 150 # number of chirps\n",
    "T_M = T_r*n_r"
   ]
  },
  {
   "cell_type": "markdown",
   "metadata": {},
   "source": [
    "Because we perform analog sampling, we have to configure our AD-converter:"
   ]
  },
  {
   "cell_type": "code",
   "execution_count": 30,
   "metadata": {},
   "outputs": [],
   "source": [
    "# sample settings\n",
    "f_s = 50e6 #50 MHz\n",
    "n_s = int(T_r*f_s)"
   ]
  },
  {
   "cell_type": "markdown",
   "metadata": {},
   "source": [
    "Base frequency setup"
   ]
  },
  {
   "cell_type": "code",
   "execution_count": 31,
   "metadata": {},
   "outputs": [],
   "source": [
    "f_0 = 77.7*1e9\n",
    "\n",
    "# some helpful\n",
    "w_0 = 2*np.pi*f_0\n",
    "lambda_0 = c/f_0"
   ]
  },
  {
   "cell_type": "code",
   "execution_count": 32,
   "metadata": {},
   "outputs": [],
   "source": [
    "def f_transmitted(t):\n",
    "    return f_0 + m_w*(t%T_r)"
   ]
  },
  {
   "cell_type": "code",
   "execution_count": 33,
   "metadata": {},
   "outputs": [],
   "source": [
    "def chirp(t):\n",
    "    return np.cos(2*np.pi*(f_transmitted(t))*t)"
   ]
  },
  {
   "cell_type": "markdown",
   "metadata": {},
   "source": [
    "Lets visualize the chirp sequence:"
   ]
  },
  {
   "cell_type": "code",
   "execution_count": 34,
   "metadata": {},
   "outputs": [],
   "source": [
    "t = np.linspace(0, 3*T_r, int(1e6))"
   ]
  },
  {
   "cell_type": "code",
   "execution_count": 35,
   "metadata": {},
   "outputs": [
    {
     "data": {
      "image/png": "[encoded data removed]",
      "text/plain": [
       "<Figure size 1080x360 with 1 Axes>"
      ]
     },
     "metadata": {
      "needs_background": "light"
     },
     "output_type": "display_data"
    }
   ],
   "source": [
    "plt.figure(figsize=(15,5))\n",
    "plt.plot(t, f_transmitted(t))\n",
    "plt.xlabel(\"t [s]\")\n",
    "plt.ylabel(\"frequency [Hz]\")\n",
    "plt.title(\"Chirp sequence Modulation, transmitted signal $f_t(t)$\");"
   ]
  },
  {
   "cell_type": "markdown",
   "metadata": {},
   "source": [
    "### Reflector setup \n",
    "\n",
    "This is our target of interest"
   ]
  },
  {
   "cell_type": "code",
   "execution_count": 36,
   "metadata": {},
   "outputs": [],
   "source": [
    "r_0 = 50 # initial distance\n",
    "v_veh = 36/3.6 # velocity"
   ]
  },
  {
   "cell_type": "code",
   "execution_count": 37,
   "metadata": {},
   "outputs": [],
   "source": [
    "def get_range(t):\n",
    "    return r_0+v_veh*t"
   ]
  },
  {
   "cell_type": "markdown",
   "metadata": {},
   "source": [
    "### Returned waveform\n",
    "\n",
    "According to Eq. 17.46 in [1](https://www.springer.com/de/book/9783658057336) the returned waveform (after mixing and LF-filter) is:\n",
    "\n",
    "\\begin{align}\n",
    "u_{It,r}(t) = \\frac{A_t A_r}{2} \\text{cos}\\left(2\\pi(\\frac{2m_w}{c}r + \\frac{2 f_0}{c}\\dot r)t + \\frac{4 \\pi f_0 r}{c} + 2\\pi(\\frac{2 r}{c})^2m_w\\right)\n",
    "\\end{align}"
   ]
  },
  {
   "cell_type": "code",
   "execution_count": 38,
   "metadata": {},
   "outputs": [
    {
     "data": {
      "text/plain": [
       "(325694.31641129137, 27.963945936914552)"
      ]
     },
     "execution_count": 38,
     "metadata": {},
     "output_type": "execute_result"
    }
   ],
   "source": [
    "4*np.pi*100*f_0/c, 2*np.pi*(2*100/c)**2*m_w"
   ]
  },
  {
   "cell_type": "markdown",
   "metadata": {},
   "source": [
    "As you can see $2\\pi(\\frac{2 r}{c})^2m_w$ has not so much influence on the phase, so we ignore it:\n",
    "\n",
    "\\begin{align}\n",
    "u_{It,r}(t) = \\frac{A_t A_r}{2} \\text{cos}\\left(2\\pi(\\frac{2m_w}{c}r + \\frac{2 f_0}{c}\\dot r)t + \\frac{4 \\pi f_0 r}{c}\\right)\n",
    "\\end{align}"
   ]
  },
  {
   "cell_type": "code",
   "execution_count": 39,
   "metadata": {},
   "outputs": [],
   "source": [
    "def itr(t):\n",
    "    r = get_range(t)\n",
    "    w_itr = 2*f_0*v_veh/c + 2*m_w*r/c\n",
    "    # we do t%T_r because the eq. above only valid within the ramp\n",
    "    v = np.cos(2*np.pi*w_itr*(t%T_r) +2*r*2*np.pi*f_0/c)\n",
    "    return v"
   ]
  },
  {
   "cell_type": "markdown",
   "metadata": {},
   "source": [
    "We build up a table of $n_r × n_s$ where $n_r$ is the number of chirps (ramps) and $n_s$ is the number of samples within a chirp."
   ]
  },
  {
   "cell_type": "code",
   "execution_count": 40,
   "metadata": {},
   "outputs": [
    {
     "name": "stdout",
     "output_type": "stream",
     "text": [
      "150 1000\n"
     ]
    }
   ],
   "source": [
    "print(n_r, n_s)"
   ]
  },
  {
   "cell_type": "code",
   "execution_count": 41,
   "metadata": {},
   "outputs": [],
   "source": [
    "t_sample = np.linspace(0, T_M, n_r*n_s)"
   ]
  },
  {
   "cell_type": "code",
   "execution_count": 42,
   "metadata": {},
   "outputs": [],
   "source": [
    "v_sample = itr(t_sample)"
   ]
  },
  {
   "cell_type": "code",
   "execution_count": 43,
   "metadata": {},
   "outputs": [
    {
     "data": {
      "text/plain": [
       "array([ 0.90535311,  0.999836  ,  0.92013809, ...,  0.28771828,\n",
       "       -0.12852771, -0.52235641])"
      ]
     },
     "execution_count": 43,
     "metadata": {},
     "output_type": "execute_result"
    }
   ],
   "source": [
    "v_sample"
   ]
  },
  {
   "cell_type": "code",
   "execution_count": 44,
   "metadata": {},
   "outputs": [
    {
     "data": {
      "image/png": "[encoded data removed]",
      "text/plain": [
       "<Figure size 1080x360 with 1 Axes>"
      ]
     },
     "metadata": {
      "needs_background": "light"
     },
     "output_type": "display_data"
    }
   ],
   "source": [
    "plt.figure(figsize=(15,5))\n",
    "plt.plot(t_sample, v_sample, \"+\")\n",
    "plt.xlim(0, 0.1*T_r)\n",
    "plt.xlabel(\"t [s]\")\n",
    "plt.title(\"Samples visualized in time range [0, 10% $T_r$]\");"
   ]
  },
  {
   "cell_type": "markdown",
   "metadata": {},
   "source": [
    "We allocate memory for the sampling data"
   ]
  },
  {
   "cell_type": "code",
   "execution_count": 45,
   "metadata": {},
   "outputs": [
    {
     "name": "stdout",
     "output_type": "stream",
     "text": [
      "[[0. 0. 0. ... 0. 0. 0.]\n",
      " [0. 0. 0. ... 0. 0. 0.]\n",
      " [0. 0. 0. ... 0. 0. 0.]\n",
      " ...\n",
      " [0. 0. 0. ... 0. 0. 0.]\n",
      " [0. 0. 0. ... 0. 0. 0.]\n",
      " [0. 0. 0. ... 0. 0. 0.]]\n"
     ]
    }
   ],
   "source": [
    "table = np.zeros((n_r, n_s))\n",
    "print(table)"
   ]
  },
  {
   "cell_type": "markdown",
   "metadata": {},
   "source": [
    "Fill in the values ..."
   ]
  },
  {
   "cell_type": "code",
   "execution_count": 46,
   "metadata": {},
   "outputs": [
    {
     "name": "stdout",
     "output_type": "stream",
     "text": [
      "[[ 0.90535311  0.999836    0.92013809 ... -0.58621371 -0.20444768\n",
      "   0.21293561]\n",
      " [ 0.97684693  0.80442927  0.49187139 ...  0.02948184  0.43493467\n",
      "   0.76461602]\n",
      " [ 0.64498108  0.27685592 -0.13950089 ...  0.63294373  0.89383707\n",
      "   0.99901074]\n",
      " ...\n",
      " [ 0.09060169 -0.32403826 -0.68216249 ...  0.99946276  0.92568891\n",
      "   0.69046254]\n",
      " [-0.53412211 -0.83282495 -0.98627312 ...  0.81208151  0.50292902\n",
      "   0.10605831]\n",
      " [-0.93829407 -0.99771652 -0.88312385 ...  0.28771828 -0.12852771\n",
      "  -0.52235641]]\n"
     ]
    }
   ],
   "source": [
    "for chirp_nr in range(n_r):\n",
    "    table[chirp_nr, :] = v_sample[(chirp_nr*n_s):(n_s*(chirp_nr+1))]\n",
    "\n",
    "print(table)"
   ]
  },
  {
   "cell_type": "markdown",
   "metadata": {},
   "source": [
    "DF for pretty printing"
   ]
  },
  {
   "cell_type": "code",
   "execution_count": 47,
   "metadata": {},
   "outputs": [],
   "source": [
    "table_df = pd.DataFrame(data=table, \n",
    "                        columns=[\"sample_%03d\"%i for i in range(n_s)], \n",
    "                        index=[\"chirp_%03d\"%i for i in range(n_r)])"
   ]
  },
  {
   "cell_type": "code",
   "execution_count": 48,
   "metadata": {},
   "outputs": [
    {
     "data": {
      "text/html": [
       "<div>\n",
       "<style scoped>\n",
       "    .dataframe tbody tr th:only-of-type {\n",
       "        vertical-align: middle;\n",
       "    }\n",
       "\n",
       "    .dataframe tbody tr th {\n",
       "        vertical-align: top;\n",
       "    }\n",
       "\n",
       "    .dataframe thead th {\n",
       "        text-align: right;\n",
       "    }\n",
       "</style>\n",
       "<table border=\"1\" class=\"dataframe\">\n",
       "  <thead>\n",
       "    <tr style=\"text-align: right;\">\n",
       "      <th></th>\n",
       "      <th>sample_000</th>\n",
       "      <th>sample_001</th>\n",
       "      <th>sample_002</th>\n",
       "      <th>sample_003</th>\n",
       "      <th>sample_004</th>\n",
       "      <th>sample_005</th>\n",
       "      <th>sample_006</th>\n",
       "      <th>sample_007</th>\n",
       "      <th>sample_008</th>\n",
       "      <th>sample_009</th>\n",
       "      <th>...</th>\n",
       "      <th>sample_990</th>\n",
       "      <th>sample_991</th>\n",
       "      <th>sample_992</th>\n",
       "      <th>sample_993</th>\n",
       "      <th>sample_994</th>\n",
       "      <th>sample_995</th>\n",
       "      <th>sample_996</th>\n",
       "      <th>sample_997</th>\n",
       "      <th>sample_998</th>\n",
       "      <th>sample_999</th>\n",
       "    </tr>\n",
       "  </thead>\n",
       "  <tbody>\n",
       "    <tr>\n",
       "      <th>chirp_000</th>\n",
       "      <td>0.905353</td>\n",
       "      <td>0.999836</td>\n",
       "      <td>0.920138</td>\n",
       "      <td>0.680144</td>\n",
       "      <td>0.321662</td>\n",
       "      <td>-0.092857</td>\n",
       "      <td>-0.491199</td>\n",
       "      <td>-0.803969</td>\n",
       "      <td>-0.976681</td>\n",
       "      <td>-0.979245</td>\n",
       "      <td>...</td>\n",
       "      <td>0.415170</td>\n",
       "      <td>0.007652</td>\n",
       "      <td>-0.401199</td>\n",
       "      <td>-0.740157</td>\n",
       "      <td>-0.950170</td>\n",
       "      <td>-0.994652</td>\n",
       "      <td>-0.865854</td>\n",
       "      <td>-0.586214</td>\n",
       "      <td>-0.204448</td>\n",
       "      <td>0.212936</td>\n",
       "    </tr>\n",
       "    <tr>\n",
       "      <th>chirp_001</th>\n",
       "      <td>0.976847</td>\n",
       "      <td>0.804429</td>\n",
       "      <td>0.491871</td>\n",
       "      <td>0.093624</td>\n",
       "      <td>-0.320933</td>\n",
       "      <td>-0.679581</td>\n",
       "      <td>-0.919838</td>\n",
       "      <td>-0.999850</td>\n",
       "      <td>-0.905677</td>\n",
       "      <td>-0.653725</td>\n",
       "      <td>...</td>\n",
       "      <td>-0.225759</td>\n",
       "      <td>-0.603753</td>\n",
       "      <td>-0.876566</td>\n",
       "      <td>-0.996670</td>\n",
       "      <td>-0.943140</td>\n",
       "      <td>-0.725302</td>\n",
       "      <td>-0.381107</td>\n",
       "      <td>0.029482</td>\n",
       "      <td>0.434935</td>\n",
       "      <td>0.764616</td>\n",
       "    </tr>\n",
       "    <tr>\n",
       "      <th>chirp_002</th>\n",
       "      <td>0.644981</td>\n",
       "      <td>0.276856</td>\n",
       "      <td>-0.139501</td>\n",
       "      <td>-0.531555</td>\n",
       "      <td>-0.831006</td>\n",
       "      <td>-0.985685</td>\n",
       "      <td>-0.968646</td>\n",
       "      <td>-0.782858</td>\n",
       "      <td>-0.460686</td>\n",
       "      <td>-0.058257</td>\n",
       "      <td>...</td>\n",
       "      <td>-0.773011</td>\n",
       "      <td>-0.964635</td>\n",
       "      <td>-0.988205</td>\n",
       "      <td>-0.839616</td>\n",
       "      <td>-0.544753</td>\n",
       "      <td>-0.154986</td>\n",
       "      <td>0.261782</td>\n",
       "      <td>0.632944</td>\n",
       "      <td>0.893837</td>\n",
       "      <td>0.999011</td>\n",
       "    </tr>\n",
       "    <tr>\n",
       "      <th>chirp_003</th>\n",
       "      <td>0.046790</td>\n",
       "      <td>-0.365037</td>\n",
       "      <td>-0.713270</td>\n",
       "      <td>-0.937241</td>\n",
       "      <td>-0.997932</td>\n",
       "      <td>-0.884770</td>\n",
       "      <td>-0.617469</td>\n",
       "      <td>-0.242597</td>\n",
       "      <td>0.174539</td>\n",
       "      <td>0.561268</td>\n",
       "      <td>...</td>\n",
       "      <td>-0.999508</td>\n",
       "      <td>-0.925246</td>\n",
       "      <td>-0.689792</td>\n",
       "      <td>-0.334165</td>\n",
       "      <td>0.079680</td>\n",
       "      <td>0.479643</td>\n",
       "      <td>0.796044</td>\n",
       "      <td>0.973761</td>\n",
       "      <td>0.981834</td>\n",
       "      <td>0.818855</td>\n",
       "    </tr>\n",
       "    <tr>\n",
       "      <th>chirp_004</th>\n",
       "      <td>-0.570722</td>\n",
       "      <td>-0.856199</td>\n",
       "      <td>-0.992513</td>\n",
       "      <td>-0.955916</td>\n",
       "      <td>-0.752785</td>\n",
       "      <td>-0.418507</td>\n",
       "      <td>-0.011319</td>\n",
       "      <td>0.397840</td>\n",
       "      <td>0.737690</td>\n",
       "      <td>0.949024</td>\n",
       "      <td>...</td>\n",
       "      <td>-0.811267</td>\n",
       "      <td>-0.501932</td>\n",
       "      <td>-0.105152</td>\n",
       "      <td>0.309948</td>\n",
       "      <td>0.671049</td>\n",
       "      <td>0.915242</td>\n",
       "      <td>0.999983</td>\n",
       "      <td>0.910510</td>\n",
       "      <td>0.662410</td>\n",
       "      <td>0.298907</td>\n",
       "    </tr>\n",
       "    <tr>\n",
       "      <th>chirp_005</th>\n",
       "      <td>-0.952571</td>\n",
       "      <td>-0.993817</td>\n",
       "      <td>-0.861923</td>\n",
       "      <td>-0.579868</td>\n",
       "      <td>-0.196791</td>\n",
       "      <td>0.220570</td>\n",
       "      <td>0.599505</td>\n",
       "      <td>0.873996</td>\n",
       "      <td>0.996222</td>\n",
       "      <td>0.944891</td>\n",
       "      <td>...</td>\n",
       "      <td>-0.286397</td>\n",
       "      <td>0.129656</td>\n",
       "      <td>0.523121</td>\n",
       "      <td>0.825448</td>\n",
       "      <td>0.983966</td>\n",
       "      <td>0.971059</td>\n",
       "      <td>0.788975</td>\n",
       "      <td>0.469436</td>\n",
       "      <td>0.068113</td>\n",
       "      <td>-0.345076</td>\n",
       "    </tr>\n",
       "    <tr>\n",
       "      <th>chirp_006</th>\n",
       "      <td>-0.941085</td>\n",
       "      <td>-0.721066</td>\n",
       "      <td>-0.375424</td>\n",
       "      <td>0.035623</td>\n",
       "      <td>0.440464</td>\n",
       "      <td>0.768568</td>\n",
       "      <td>0.962774</td>\n",
       "      <td>0.989248</td>\n",
       "      <td>0.843378</td>\n",
       "      <td>0.550576</td>\n",
       "      <td>...</td>\n",
       "      <td>0.357312</td>\n",
       "      <td>0.707445</td>\n",
       "      <td>0.934326</td>\n",
       "      <td>0.998429</td>\n",
       "      <td>0.888586</td>\n",
       "      <td>0.623932</td>\n",
       "      <td>0.250578</td>\n",
       "      <td>-0.166433</td>\n",
       "      <td>-0.554448</td>\n",
       "      <td>-0.845866</td>\n",
       "    </tr>\n",
       "    <tr>\n",
       "      <th>chirp_007</th>\n",
       "      <td>-0.541005</td>\n",
       "      <td>-0.150571</td>\n",
       "      <td>0.266096</td>\n",
       "      <td>0.636404</td>\n",
       "      <td>0.895838</td>\n",
       "      <td>0.999200</td>\n",
       "      <td>0.928483</td>\n",
       "      <td>0.696006</td>\n",
       "      <td>0.342272</td>\n",
       "      <td>-0.071093</td>\n",
       "      <td>...</td>\n",
       "      <td>0.852756</td>\n",
       "      <td>0.991682</td>\n",
       "      <td>0.957836</td>\n",
       "      <td>0.757114</td>\n",
       "      <td>0.424486</td>\n",
       "      <td>0.017904</td>\n",
       "      <td>-0.391798</td>\n",
       "      <td>-0.733240</td>\n",
       "      <td>-0.946936</td>\n",
       "      <td>-0.995655</td>\n",
       "    </tr>\n",
       "    <tr>\n",
       "      <th>chirp_008</th>\n",
       "      <td>0.082467</td>\n",
       "      <td>0.482098</td>\n",
       "      <td>0.797739</td>\n",
       "      <td>0.974397</td>\n",
       "      <td>0.981296</td>\n",
       "      <td>0.817232</td>\n",
       "      <td>0.510791</td>\n",
       "      <td>0.115359</td>\n",
       "      <td>-0.300171</td>\n",
       "      <td>-0.663405</td>\n",
       "      <td>...</td>\n",
       "      <td>0.994356</td>\n",
       "      <td>0.864427</td>\n",
       "      <td>0.583895</td>\n",
       "      <td>0.201635</td>\n",
       "      <td>-0.215755</td>\n",
       "      <td>-0.595555</td>\n",
       "      <td>-0.871595</td>\n",
       "      <td>-0.995784</td>\n",
       "      <td>-0.946484</td>\n",
       "      <td>-0.732285</td>\n",
       "    </tr>\n",
       "    <tr>\n",
       "      <th>chirp_009</th>\n",
       "      <td>0.671886</td>\n",
       "      <td>0.915698</td>\n",
       "      <td>0.999976</td>\n",
       "      <td>0.910036</td>\n",
       "      <td>0.661548</td>\n",
       "      <td>0.297805</td>\n",
       "      <td>-0.117823</td>\n",
       "      <td>-0.512924</td>\n",
       "      <td>-0.818662</td>\n",
       "      <td>-0.981771</td>\n",
       "      <td>...</td>\n",
       "      <td>0.723355</td>\n",
       "      <td>0.378482</td>\n",
       "      <td>-0.032331</td>\n",
       "      <td>-0.437512</td>\n",
       "      <td>-0.766468</td>\n",
       "      <td>-0.961886</td>\n",
       "      <td>-0.989720</td>\n",
       "      <td>-0.845120</td>\n",
       "      <td>-0.553281</td>\n",
       "      <td>-0.165046</td>\n",
       "    </tr>\n",
       "  </tbody>\n",
       "</table>\n",
       "<p>10 rows × 1000 columns</p>\n",
       "</div>"
      ],
      "text/plain": [
       "           sample_000  sample_001  sample_002  sample_003  sample_004  \\\n",
       "chirp_000    0.905353    0.999836    0.920138    0.680144    0.321662   \n",
       "chirp_001    0.976847    0.804429    0.491871    0.093624   -0.320933   \n",
       "chirp_002    0.644981    0.276856   -0.139501   -0.531555   -0.831006   \n",
       "chirp_003    0.046790   -0.365037   -0.713270   -0.937241   -0.997932   \n",
       "chirp_004   -0.570722   -0.856199   -0.992513   -0.955916   -0.752785   \n",
       "chirp_005   -0.952571   -0.993817   -0.861923   -0.579868   -0.196791   \n",
       "chirp_006   -0.941085   -0.721066   -0.375424    0.035623    0.440464   \n",
       "chirp_007   -0.541005   -0.150571    0.266096    0.636404    0.895838   \n",
       "chirp_008    0.082467    0.482098    0.797739    0.974397    0.981296   \n",
       "chirp_009    0.671886    0.915698    0.999976    0.910036    0.661548   \n",
       "\n",
       "           sample_005  sample_006  sample_007  sample_008  sample_009  ...  \\\n",
       "chirp_000   -0.092857   -0.491199   -0.803969   -0.976681   -0.979245  ...   \n",
       "chirp_001   -0.679581   -0.919838   -0.999850   -0.905677   -0.653725  ...   \n",
       "chirp_002   -0.985685   -0.968646   -0.782858   -0.460686   -0.058257  ...   \n",
       "chirp_003   -0.884770   -0.617469   -0.242597    0.174539    0.561268  ...   \n",
       "chirp_004   -0.418507   -0.011319    0.397840    0.737690    0.949024  ...   \n",
       "chirp_005    0.220570    0.599505    0.873996    0.996222    0.944891  ...   \n",
       "chirp_006    0.768568    0.962774    0.989248    0.843378    0.550576  ...   \n",
       "chirp_007    0.999200    0.928483    0.696006    0.342272   -0.071093  ...   \n",
       "chirp_008    0.817232    0.510791    0.115359   -0.300171   -0.663405  ...   \n",
       "chirp_009    0.297805   -0.117823   -0.512924   -0.818662   -0.981771  ...   \n",
       "\n",
       "           sample_990  sample_991  sample_992  sample_993  sample_994  \\\n",
       "chirp_000    0.415170    0.007652   -0.401199   -0.740157   -0.950170   \n",
       "chirp_001   -0.225759   -0.603753   -0.876566   -0.996670   -0.943140   \n",
       "chirp_002   -0.773011   -0.964635   -0.988205   -0.839616   -0.544753   \n",
       "chirp_003   -0.999508   -0.925246   -0.689792   -0.334165    0.079680   \n",
       "chirp_004   -0.811267   -0.501932   -0.105152    0.309948    0.671049   \n",
       "chirp_005   -0.286397    0.129656    0.523121    0.825448    0.983966   \n",
       "chirp_006    0.357312    0.707445    0.934326    0.998429    0.888586   \n",
       "chirp_007    0.852756    0.991682    0.957836    0.757114    0.424486   \n",
       "chirp_008    0.994356    0.864427    0.583895    0.201635   -0.215755   \n",
       "chirp_009    0.723355    0.378482   -0.032331   -0.437512   -0.766468   \n",
       "\n",
       "           sample_995  sample_996  sample_997  sample_998  sample_999  \n",
       "chirp_000   -0.994652   -0.865854   -0.586214   -0.204448    0.212936  \n",
       "chirp_001   -0.725302   -0.381107    0.029482    0.434935    0.764616  \n",
       "chirp_002   -0.154986    0.261782    0.632944    0.893837    0.999011  \n",
       "chirp_003    0.479643    0.796044    0.973761    0.981834    0.818855  \n",
       "chirp_004    0.915242    0.999983    0.910510    0.662410    0.298907  \n",
       "chirp_005    0.971059    0.788975    0.469436    0.068113   -0.345076  \n",
       "chirp_006    0.623932    0.250578   -0.166433   -0.554448   -0.845866  \n",
       "chirp_007    0.017904   -0.391798   -0.733240   -0.946936   -0.995655  \n",
       "chirp_008   -0.595555   -0.871595   -0.995784   -0.946484   -0.732285  \n",
       "chirp_009   -0.961886   -0.989720   -0.845120   -0.553281   -0.165046  \n",
       "\n",
       "[10 rows x 1000 columns]"
      ]
     },
     "execution_count": 48,
     "metadata": {},
     "output_type": "execute_result"
    }
   ],
   "source": [
    "table_df.head(10)"
   ]
  },
  {
   "cell_type": "markdown",
   "metadata": {},
   "source": [
    "Now our table consists all sampled measurement during a cycle. We will use this matrix to calculate range and velocity."
   ]
  },
  {
   "cell_type": "markdown",
   "metadata": {},
   "source": [
    "### FFT over the first chirp"
   ]
  },
  {
   "cell_type": "markdown",
   "metadata": {},
   "source": [
    "For didactic reasons we do the FFT procedure only for the first churp to make an example of the procedure."
   ]
  },
  {
   "cell_type": "code",
   "execution_count": 49,
   "metadata": {},
   "outputs": [],
   "source": [
    "chirp0_samples = table_df.iloc[0].values"
   ]
  },
  {
   "cell_type": "code",
   "execution_count": 50,
   "metadata": {},
   "outputs": [],
   "source": [
    "chirp0_magnitude = fft(chirp0_samples)"
   ]
  },
  {
   "cell_type": "code",
   "execution_count": 51,
   "metadata": {},
   "outputs": [],
   "source": [
    "# frequencies found by FFT, will be used later\n",
    "frequencies = np.arange(0, n_s//2)*f_s/n_s"
   ]
  },
  {
   "cell_type": "code",
   "execution_count": null,
   "metadata": {},
   "outputs": [],
   "source": []
  },
  {
   "cell_type": "code",
   "execution_count": 52,
   "metadata": {
    "scrolled": true
   },
   "outputs": [
    {
     "data": {
      "text/plain": [
       "array([     0.,  50000., 100000.])"
      ]
     },
     "execution_count": 52,
     "metadata": {},
     "output_type": "execute_result"
    }
   ],
   "source": [
    "frequencies[:3]"
   ]
  },
  {
   "cell_type": "markdown",
   "metadata": {},
   "source": [
    "Each frequency is referred to a range\n",
    "\n",
    "\\begin{align}\n",
    "f_* = \\frac{2m_w}{c}r + \\frac{2 f_0}{c}\\dot r\n",
    "\\end{align}\n",
    "\n",
    "Because $m_w$ is so large, the influence of the velocity (second term) is very low:"
   ]
  },
  {
   "cell_type": "code",
   "execution_count": 53,
   "metadata": {},
   "outputs": [
    {
     "name": "stdout",
     "output_type": "stream",
     "text": [
      "6671281.9039630415 17105.833929951634\n",
      "0.25640999999999997 %\n"
     ]
    }
   ],
   "source": [
    "f_star1 = 2*m_w/c*100\n",
    "f_star2 = 2*f_0/c*33\n",
    "print(f_star1, f_star2)\n",
    "print(f_star2/f_star1*100, \"%\")"
   ]
  },
  {
   "cell_type": "markdown",
   "metadata": {},
   "source": [
    "That means:\n",
    "\n",
    "\\begin{align}\n",
    "f_* \\approx \\frac{2m_w}{c}r\n",
    "\\end{align}\n",
    "\n",
    "We rearrange:\n",
    "\n",
    "\\begin{align}\n",
    "r \\approx \\frac{f_* c}{2 m_w}\n",
    "\\end{align}"
   ]
  },
  {
   "cell_type": "code",
   "execution_count": 54,
   "metadata": {},
   "outputs": [],
   "source": [
    "def freq_to_range(f):\n",
    "    return f*c/(2*m_w)"
   ]
  },
  {
   "cell_type": "code",
   "execution_count": 55,
   "metadata": {},
   "outputs": [],
   "source": [
    "ranges = freq_to_range(frequencies)"
   ]
  },
  {
   "cell_type": "code",
   "execution_count": 56,
   "metadata": {},
   "outputs": [
    {
     "name": "stdout",
     "output_type": "stream",
     "text": [
      "50.215236715\n"
     ]
    },
    {
     "data": {
      "image/png": "[encoded data removed]",
      "text/plain": [
       "<Figure size 720x360 with 1 Axes>"
      ]
     },
     "metadata": {
      "needs_background": "light"
     },
     "output_type": "display_data"
    }
   ],
   "source": [
    "plt.figure(figsize=(10,5))\n",
    "plt.plot(ranges, 2.0/n_s*np.abs(chirp0_magnitude[0:n_s//2]))\n",
    "plt.plot(ranges, 2.0/n_s*np.abs(chirp0_magnitude[0:n_s//2]), \"k+\")\n",
    "plt.xlabel(\"range $r$ [m]\")\n",
    "plt.title(\"derived range (FFT of chirp_0)\")\n",
    "print(freq_to_range(frequencies)[np.argmax(2.0/n_s*np.abs(chirp0_magnitude[0:n_s//2]))])"
   ]
  },
  {
   "cell_type": "markdown",
   "metadata": {},
   "source": [
    "Looks like we got the distance right: $\\approx 50m$"
   ]
  },
  {
   "cell_type": "markdown",
   "metadata": {},
   "source": [
    "# Calculate range bins for each chirp\n",
    "\n",
    "Now we do the same for each of $n_r$ chirps and save the FFT results in a table of shape $n_r × n_s/2$."
   ]
  },
  {
   "cell_type": "code",
   "execution_count": 57,
   "metadata": {},
   "outputs": [],
   "source": [
    "range_table = np.zeros((n_r, n_s//2), dtype=np.csingle)"
   ]
  },
  {
   "cell_type": "code",
   "execution_count": 58,
   "metadata": {},
   "outputs": [],
   "source": [
    "for chirp_nr in range(n_r):\n",
    "    chirp_ad_values = table_df.iloc[chirp_nr].values\n",
    "    chirp_fft = fft(chirp_ad_values) # FFT\n",
    "    range_table[chirp_nr, :] = 2.0/n_s*chirp_fft[:n_s//2]"
   ]
  },
  {
   "cell_type": "markdown",
   "metadata": {},
   "source": [
    "Let's visualize the table"
   ]
  },
  {
   "cell_type": "code",
   "execution_count": 59,
   "metadata": {},
   "outputs": [
    {
     "ename": "AttributeError",
     "evalue": "'numpy.ndarray' object has no attribute 'sizeアユ'",
     "output_type": "error",
     "traceback": [
      "\u001b[1;31m---------------------------------------------------------------------------\u001b[0m",
      "\u001b[1;31mAttributeError\u001b[0m                            Traceback (most recent call last)",
      "\u001b[1;32m<ipython-input-59-8cd4eee9aa9c>\u001b[0m in \u001b[0;36m<module>\u001b[1;34m\u001b[0m\n\u001b[0;32m     18\u001b[0m \u001b[0mphi_axes\u001b[0m\u001b[1;33m.\u001b[0m\u001b[0mset_ylabel\u001b[0m\u001b[1;33m(\u001b[0m\u001b[1;34m\"chirp number\"\u001b[0m\u001b[1;33m)\u001b[0m\u001b[1;33m\u001b[0m\u001b[1;33m\u001b[0m\u001b[0m\n\u001b[0;32m     19\u001b[0m \u001b[0mphi_axes\u001b[0m\u001b[1;33m.\u001b[0m\u001b[0mset_title\u001b[0m\u001b[1;33m(\u001b[0m\u001b[1;34m\"$∠ A(j\\omega)$\"\u001b[0m\u001b[1;33m)\u001b[0m\u001b[1;33m\u001b[0m\u001b[1;33m\u001b[0m\u001b[0m\n\u001b[1;32m---> 20\u001b[1;33m \u001b[0mphi_axes\u001b[0m\u001b[1;33m.\u001b[0m\u001b[0mset_xticks\u001b[0m\u001b[1;33m(\u001b[0m\u001b[0mrange\u001b[0m\u001b[1;33m(\u001b[0m\u001b[0mranges\u001b[0m\u001b[1;33m.\u001b[0m\u001b[0msizeアユ\u001b[0m\u001b[1;33m)\u001b[0m\u001b[1;33m[\u001b[0m\u001b[1;33m:\u001b[0m\u001b[1;33m:\u001b[0m\u001b[1;36m50\u001b[0m\u001b[1;33m]\u001b[0m\u001b[1;33m)\u001b[0m\u001b[1;33m\u001b[0m\u001b[1;33m\u001b[0m\u001b[0m\n\u001b[0m\u001b[0;32m     21\u001b[0m \u001b[0mphi_axes\u001b[0m\u001b[1;33m.\u001b[0m\u001b[0mset_xticklabels\u001b[0m\u001b[1;33m(\u001b[0m\u001b[0mranges\u001b[0m\u001b[1;33m[\u001b[0m\u001b[1;33m:\u001b[0m\u001b[1;33m:\u001b[0m\u001b[1;36m50\u001b[0m\u001b[1;33m]\u001b[0m\u001b[1;33m,\u001b[0m \u001b[0mrotation\u001b[0m\u001b[1;33m=\u001b[0m\u001b[1;36m90\u001b[0m\u001b[1;33m)\u001b[0m\u001b[1;33m\u001b[0m\u001b[1;33m\u001b[0m\u001b[0m\n\u001b[0;32m     22\u001b[0m \u001b[1;33m\u001b[0m\u001b[0m\n",
      "\u001b[1;31mAttributeError\u001b[0m: 'numpy.ndarray' object has no attribute 'sizeアユ'"
     ]
    },
    {
     "data": {
      "image/png": "[encoded data removed]",
      "text/plain": [
       "<Figure size 1080x720 with 6 Axes>"
      ]
     },
     "metadata": {
      "needs_background": "light"
     },
     "output_type": "display_data"
    }
   ],
   "source": [
    "fig, ax = plt.subplots(nrows=2, ncols=2, figsize=(15,10), sharex=True, sharey=True)\n",
    "abs_axes = ax[0, 0]\n",
    "phi_axes = ax[0, 1]\n",
    "real_axes = ax[1, 0]\n",
    "imag_axes = ax[1, 1]\n",
    "\n",
    "im_asb = abs_axes.imshow(np.abs(range_table), cmap = plt.get_cmap('RdYlBu'))\n",
    "abs_axes.set_xticks(range(ranges.size)[::50])\n",
    "abs_axes.set_xticklabels(ranges[::50], rotation=90)\n",
    "fig.colorbar(im_asb, ax=abs_axes)\n",
    "abs_axes.set_xlabel(\"range [m]\")\n",
    "abs_axes.set_ylabel(\"chirp number\")\n",
    "abs_axes.set_title(\"$|A(j\\omega)|$\")\n",
    "\n",
    "im_phi = phi_axes.imshow(np.angle(range_table)*360/(2*np.pi), cmap = plt.get_cmap('RdYlBu'))\n",
    "fig.colorbar(im_phi, ax=phi_axes)\n",
    "phi_axes.set_xlabel(\"range [m]\")\n",
    "phi_axes.set_ylabel(\"chirp number\")\n",
    "phi_axes.set_title(\"$∠ A(j\\omega)$\")\n",
    "phi_axes.set_xticks(range(ranges.sizeアユ)[::50])\n",
    "phi_axes.set_xticklabels(ranges[::50], rotation=90)\n",
    "\n",
    "im_real = real_axes.imshow(np.real(range_table), cmap = plt.get_cmap('RdYlBu'))\n",
    "fig.colorbar(im_real, ax=real_axes)\n",
    "real_axes.set_xlabel(\"range [m]\")\n",
    "real_axes.set_ylabel(\"chirp number\")\n",
    "real_axes.set_title(\"Real{$A(j\\omega)$}\")\n",
    "real_axes.set_xticks(range(ranges.size)[::50])\n",
    "real_axes.set_xticklabels(ranges[::50], rotation=90)\n",
    "\n",
    "im_imag = imag_axes.imshow(np.imag(range_table), cmap = plt.get_cmap('RdYlBu'))\n",
    "fig.colorbar(im_imag, ax=imag_axes)\n",
    "imag_axes.set_xlabel(\"range [m]\")\n",
    "imag_axes.set_ylabel(\"chirp number\")\n",
    "imag_axes.set_title(\"Imag{$A(j\\omega)$}\");\n",
    "imag_axes.set_xticks(range(ranges.size)[::50])\n",
    "imag_axes.set_xticklabels(ranges[::50], rotation=90);\n",
    "\n",
    "fig.suptitle(\"Range FFT table visualized.\");"
   ]
  },
  {
   "cell_type": "markdown",
   "metadata": {},
   "source": [
    "## Velocity estimation\n",
    "\n",
    "We make a second FFT over each range bin (column).\n",
    "\n",
    "Again, we initialize an empty table. Now the rows will be different velocity ranges."
   ]
  },
  {
   "cell_type": "code",
   "execution_count": null,
   "metadata": {},
   "outputs": [],
   "source": [
    "velocity_table = np.zeros((n_r, range_table.shape[1]), dtype=np.csingle)"
   ]
  },
  {
   "cell_type": "code",
   "execution_count": null,
   "metadata": {},
   "outputs": [],
   "source": [
    "for r in range(range_table.shape[1]):\n",
    "    range_bin_magn = range_table[:, r]\n",
    "    range_bin_fft = fft(range_bin_magn)\n",
    "    velocity_table[:, r]= 2.0/n_r*range_bin_fft"
   ]
  },
  {
   "cell_type": "markdown",
   "metadata": {},
   "source": [
    "Second FFT on columns returns the phase shift\n",
    "\n",
    "\\begin{align}\n",
    "... + \\frac{4 \\pi f_0 }{c} r = ... + \\frac{4 \\pi f_0 }{c} vt \\\\\n",
    "\\Rightarrow \\frac{4 \\pi f_0 }{c}v = \\omega_{\\text{FFT, columns}}\n",
    "\\end{align}"
   ]
  },
  {
   "cell_type": "markdown",
   "metadata": {},
   "source": [
    "After rearranging ..."
   ]
  },
  {
   "cell_type": "code",
   "execution_count": null,
   "metadata": {},
   "outputs": [],
   "source": [
    "def angle_freq_to_velocity(w):\n",
    "    return w*c/(4*np.pi*f_0)"
   ]
  },
  {
   "cell_type": "code",
   "execution_count": null,
   "metadata": {},
   "outputs": [],
   "source": [
    "omega_second = 2*np.pi*np.concatenate((np.arange(0, n_r//2), np.arange(-n_r//2, 0)[::-1]))*f_chirp/n_r"
   ]
  },
  {
   "cell_type": "code",
   "execution_count": null,
   "metadata": {},
   "outputs": [],
   "source": [
    "velocities = angle_freq_to_velocity(omega_second)"
   ]
  },
  {
   "cell_type": "code",
   "execution_count": null,
   "metadata": {},
   "outputs": [],
   "source": [
    "plt.figure(figsize=(15,10))\n",
    "plt.imshow(np.abs(velocity_table), cmap = plt.get_cmap('RdYlBu'))\n",
    "plt.xticks(range(ranges.size)[::20], ranges[::20], rotation=90);\n",
    "plt.yticks(range(velocities.size)[::10], velocities[::10]);\n",
    "plt.xlim([0, 200])\n",
    "plt.xlabel(\"range $r$ [m]\")\n",
    "plt.ylabel(\"velocity $\\\\dot r = v$ [m/s]\");\n",
    "plt.title(\"Chirp Sequence Modulation Result - $r, \\\\dot r$ map\")\n",
    "plt.colorbar();"
   ]
  },
  {
   "cell_type": "markdown",
   "metadata": {},
   "source": [
    "As you can see, we could successfully recognize (blue dot) the target in 50m range with velocity of $10 m/s$."
   ]
  },
  {
   "cell_type": "code",
   "execution_count": null,
   "metadata": {},
   "outputs": [],
   "source": []
  }
 ],
 "metadata": {
  "kernelspec": {
   "display_name": "Python 3",
   "language": "python",
   "name": "python3"
  },
  "language_info": {
   "codemirror_mode": {
    "name": "ipython",
    "version": 3
   },
   "file_extension": ".py",
   "mimetype": "text/x-python",
   "name": "python",
   "nbconvert_exporter": "python",
   "pygments_lexer": "ipython3",
   "version": "3.8.5"
  }
 },
 "nbformat": 4,
 "nbformat_minor": 4
}
